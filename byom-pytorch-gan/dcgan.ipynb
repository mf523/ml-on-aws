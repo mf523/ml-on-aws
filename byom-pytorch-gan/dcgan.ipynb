{
 "cells": [
  {
   "cell_type": "markdown",
   "metadata": {},
   "source": [
    "# 轻松构建 PyTorch 生成对抗网络(GAN)"
   ]
  },
  {
   "cell_type": "markdown",
   "metadata": {},
   "source": [
    "### 创建Notebook实例\n",
    "\n",
    "*如果您已经了解 Amazon SageMaker Notebook 的创建方法，请跳过本小结。*\n",
    "\n",
    "* 请打开 Amazon SageMaker 的仪表板（点击打开 [北京区域](https://cn-north-1.console.amazonaws.cn/sagemaker/home?region=cn-north-1#/dashboard) | [宁夏区域](https://cn-northwest-1.console.amazonaws.cn/sagemaker/home?region=cn-northwest-1#/dashboard) ），点击 `Notebook instances` 按钮进入笔记本实例列表。\n",
    "\n",
    "* 如果您是第一次使用Amazon SageMaker，您的 `Notebook instances` 列表将显示为空列表，此时您需点击 `Create notebook instance` 按钮来创建全新 Jupyter Notebook 实例。\n",
    "\n",
    "* 进入 `Create notebook instance` 页面后，请在 `Notebook instance name` 字段里输入实例名字，本文将使用 MySageMakerInstance 作为实例名，您可以选用您认为合适的名字。本文将使用默认的实例类型，因此 `Notebook instance type` 选项将保持为 ml.t2.medium。\n",
    "\n",
    "* 如果您是第一次使用Amazon SageMaker，您需要创建一个 IAM role，以便笔记本实例能够访问 Amazon S3 服务。请在 `IAM role` 选项点击为 `Create a new role`。Amazon SageMaker 将创建一个具有必要权限的角色，并将这个角色分配给正在创建的实例。另外，根据您的实际情况，您也可以选择一个已经存在的角色。\n",
    "\n",
    "* 在 `Create an IAM role` 弹出窗口里，您可以选择 Any S3 bucket，这样笔记本实例将能够访问您账户里的所有桶。另外，根据您的需要，您还可以选择 *Specific S3 buckets* 并输入桶名。点击 `Create role` 按钮，这个新角色将被创建。\n",
    "\n",
    "* 此时，可以看到 Amazon SageMaker 为您创建了一个名字类似 `AmazonSageMaker-ExecutionRole-***` 的角色。对于其他字段，您可以采取默认值，请点击 `Create notebook instance` 按钮，创建实例。\n",
    "\n",
    "* 回到 `Notebook instances` 页面，您会看到 MySageMakerInstance 笔记本实例显示为 `Pending` 状态，这个将持续2分钟左右，直到转为 `InService` 状态。"
   ]
  },
  {
   "cell_type": "markdown",
   "metadata": {},
   "source": [
    "### 编写第一行代码\n",
    "\n",
    "*如果您已经了解 Amazon SageMaker Notebook 的使用方法，请跳过本小结。*\n",
    "\n",
    "点击 `Open JupyterLab` 链接，在新的页面里，您将看到熟悉的 Jupyter Notebook 加载界面。本文默认以 JupyterLab 笔记本作为工程环境，根据您的需要，可以选择使用传统的 Jupyter 笔记本。\n",
    "\n",
    "您将通过点击 `conda_pytorch_p36` 笔记本图标来创建一个叫做 Untitled.ipynb 的笔记本，您可以稍后更改它的名字。另外，您也可以通过 `File > New > Notebook` 菜单路径，并选择 `conda_pytorch_p36` 作为 `Kernel` 来创建这个笔记本。\n",
    "\n",
    "在新建的 Untitled.ipynb 笔记本里，我们将输入第一行指令如下，"
   ]
  },
  {
   "cell_type": "code",
   "execution_count": 1,
   "metadata": {
    "isConfigCell": true
   },
   "outputs": [
    {
     "name": "stdout",
     "output_type": "stream",
     "text": [
      "Hello PyTorch 1.4.0\n"
     ]
    }
   ],
   "source": [
    "import torch\n",
    "\n",
    "print(f\"Hello PyTorch {torch.__version__}\")"
   ]
  },
  {
   "cell_type": "markdown",
   "metadata": {
    "isConfigCell": true
   },
   "source": [
    "### 源代码下载\n",
    "\n",
    "您将使用下面指令下载代码到实例本地文件系统。"
   ]
  },
  {
   "cell_type": "code",
   "execution_count": null,
   "metadata": {
    "isConfigCell": true
   },
   "outputs": [],
   "source": [
    "!git clone \"https://github.com/mf523/ml-on-aws.git\" \"ml-on-aws\""
   ]
  },
  {
   "cell_type": "markdown",
   "metadata": {
    "isConfigCell": true
   },
   "source": [
    "您可以通过 `File browser` 浏览源代码结构。\n",
    "\n",
    "项目目录 /ml-on-aws/byom-pytorch-gan 的文件结构如下，"
   ]
  },
  {
   "cell_type": "raw",
   "metadata": {
    "isConfigCell": true
   },
   "source": [
    "├── data\n",
    "│   └── empty\n",
    "├── dcgan\n",
    "│   ├── entry_point.py\n",
    "│   └── model.py\n",
    "├── dcgan.ipynb\n",
    "├── helper.py\n",
    "├── model\n",
    "│   └── empty\n",
    "└── tmp\n",
    "    └── empty"
   ]
  },
  {
   "cell_type": "markdown",
   "metadata": {
    "isConfigCell": true
   },
   "source": [
    "文件 model.py 中包含 2 个类，分别是 生成网络 Generator 和 判别网络 Discriminator。"
   ]
  },
  {
   "cell_type": "raw",
   "metadata": {
    "isConfigCell": true
   },
   "source": [
    "class Generator(nn.Module):\n",
    "...\n",
    "\n",
    "class Discriminator(nn.Module):\n",
    "...\n"
   ]
  },
  {
   "cell_type": "markdown",
   "metadata": {
    "isConfigCell": true
   },
   "source": [
    "文件 train.py 用于 Generator 和 Discriminator 两个神经网络的训练。"
   ]
  },
  {
   "cell_type": "raw",
   "metadata": {
    "isConfigCell": true
   },
   "source": [
    "\n",
    "def parse_args():\n",
    "...\n",
    "\n",
    "def train(hps, device, batch_size, test_batch_size, epochs, learning_rate,\n",
    "          num_gpus, hosts, backend, current_host, model_dir, output_dir, seed, log_interval,\n",
    "          beta1, nz, nc, ngf, ndf, dataloader):\n",
    "...\n"
   ]
  },
  {
   "cell_type": "markdown",
   "metadata": {
    "isConfigCell": true
   },
   "source": [
    "\n"
   ]
  },
  {
   "cell_type": "markdown",
   "metadata": {
    "isConfigCell": true
   },
   "source": [
    "### 数据准备"
   ]
  },
  {
   "cell_type": "markdown",
   "metadata": {},
   "source": [
    "互联网环境里有很多公开的数据集，对于机器学习的模型训练和算法评价很有帮，我们将使用QMNIST手写数字数据集训练这个生成对抗网络，并最终生成逼真的『手写』字体效果图样。"
   ]
  },
  {
   "cell_type": "markdown",
   "metadata": {
    "isConfigCell": true
   },
   "source": [
    "PyTorch 框架的 torchvision.datasets 包提供了QMNIST数据集，我们通过如下指令下载 QMNIST 数据集备用。"
   ]
  },
  {
   "cell_type": "code",
   "execution_count": 29,
   "metadata": {
    "isConfigCell": true
   },
   "outputs": [],
   "source": [
    "from torchvision import datasets\n",
    "\n",
    "dataset = 'qmnist'\n",
    "dataroot = './data'\n",
    "\n",
    "if dataset == 'mnist':\n",
    "\n",
    "    trainset = datasets.MNIST(root=dataroot, train=True, download=True)\n",
    "    testset = datasets.MNIST(root=dataroot, train=False, download=True)\n",
    "elif dataset == 'qmnist':\n",
    "\n",
    "    trainset = datasets.QMNIST(root=dataroot, train=True, download=True)\n",
    "    testset = datasets.QMNIST(root=dataroot, train=False, download=True)\n",
    "elif dataset == 'cifar10':\n",
    "\n",
    "    trainset = datasets.CIFAR10(root=dataroot, train=True, download=True)\n",
    "    testset = datasets.CIFAR10(root=dataroot, train=False, download=True)\n",
    "else:\n",
    "    raise ValueError(f\"unknown dataset '{dataset}'\")\n",
    "    "
   ]
  },
  {
   "cell_type": "code",
   "execution_count": 42,
   "metadata": {
    "isConfigCell": true
   },
   "outputs": [],
   "source": [
    "confsets = {\n",
    "        'mnist':{'subfolder': 'MNIST',\n",
    "                     'hps': {\n",
    "                         'seed': 0,\n",
    "                         'learning-rate': 0.0002,\n",
    "                         'epochs': 10,\n",
    "                         'dataset': dataset,\n",
    "                         'pin-memory': 1,\n",
    "                         'beta1': 0.5,\n",
    "                         'nc': 1,\n",
    "                         'nz': 100,\n",
    "                         'ngf': 64,\n",
    "                         'ndf': 64,\n",
    "                         'batch-size': 64,\n",
    "                         'sample-interval': 100,\n",
    "                         'log-interval': 20,\n",
    "                     }\n",
    "                },\n",
    "        'qmnist':{'subfolder': 'QMNIST',\n",
    "                     'hps': {\n",
    "                         'seed': 0,\n",
    "                         'learning-rate': 0.0002,\n",
    "                         'epochs': 10,\n",
    "                         'dataset': dataset,\n",
    "                         'pin-memory': 1,\n",
    "                         'beta1': 0.5,\n",
    "                         'nc': 1,\n",
    "                         'nz': 100,\n",
    "                         'ngf': 64,\n",
    "                         'ndf': 64,\n",
    "                         'batch-size': 64,\n",
    "                         'sample-interval': 100,\n",
    "                         'log-interval': 20,\n",
    "                     }\n",
    "                },\n",
    "        'cifar10':{'subfolder': 'cifar-10-batches-py',\n",
    "                     'hps': {\n",
    "                         'seed': 0,\n",
    "                         'learning-rate': 0.0002,\n",
    "                         'epochs': 10,\n",
    "                         'dataset': dataset,\n",
    "                         'pin-memory': 1,\n",
    "                         'beta1': 0.5,\n",
    "                         'nc': 3,\n",
    "                         'nz': 100,\n",
    "                         'ngf': 64,\n",
    "                         'ndf': 64,\n",
    "                         'batch-size': 64,\n",
    "                         'sample-interval': 100,\n",
    "                         'log-interval': 20,\n",
    "                     }\n",
    "                }\n",
    "       }\n",
    "\n",
    "\n",
    "\n",
    "subfolder = confsets[dataset]['subfolder']"
   ]
  },
  {
   "cell_type": "markdown",
   "metadata": {
    "isConfigCell": true
   },
   "source": [
    "Amazon SageMaker 为您创建了一个默认的 Amazon S3 桶，用来存取机器学习工作流程中可能需要的各种文件和数据。\n",
    "我们可以通过 SageMaker SDK中 sagemaker.session.Session 类的 default_bucket() 方法获得这个桶的名字。"
   ]
  },
  {
   "cell_type": "code",
   "execution_count": 31,
   "metadata": {
    "isConfigCell": true
   },
   "outputs": [],
   "source": [
    "from sagemaker.session import Session\n",
    "\n",
    "sess = Session()\n",
    "\n",
    "# S3 bucket for saving code and model artifacts.\n",
    "# Feel free to specify a different bucket here if you wish.\n",
    "bucket = sess.default_bucket()\n",
    "\n",
    "# Location to save your custom code in tar.gz format.\n",
    "s3_custom_code_upload_location = f's3://{bucket}/customcode/byom-pytorch-gan'\n",
    "\n",
    "# Location where results of model training are saved.\n",
    "s3_model_artifacts_location =f's3://{bucket}/artifacts/'"
   ]
  },
  {
   "cell_type": "markdown",
   "metadata": {},
   "source": [
    "请执行如下指令将已经下载的数据上传至 Amazon S3，供模型训练使用。模型训练过程不需要从互联网下载数据，进而降低了获取训练数据的产生延迟，同时也规避了因直接访问互联网对模型训练可能产生的安全风险。"
   ]
  },
  {
   "cell_type": "code",
   "execution_count": 32,
   "metadata": {
    "scrolled": true
   },
   "outputs": [],
   "source": [
    "import os\n",
    "from sagemaker.s3 import S3Uploader as s3up\n",
    "\n",
    "s3_data_location = s3up.upload(os.path.join(dataroot, subfolder), f\"s3://{bucket}/data/{dataset}\")"
   ]
  },
  {
   "cell_type": "markdown",
   "metadata": {},
   "source": [
    "### 训练执行\n",
    "\n",
    "\n"
   ]
  },
  {
   "cell_type": "markdown",
   "metadata": {},
   "source": [
    "通过 sagemaker.get_execution_role() 方法，当前笔记本可以得到预先分配给笔记本实例的角色，这个角色将被用来获取训练用的资源，比如 Amazon EC2。"
   ]
  },
  {
   "cell_type": "code",
   "execution_count": null,
   "metadata": {
    "scrolled": true
   },
   "outputs": [],
   "source": [
    "from sagemaker import get_execution_role\n",
    "\n",
    "# IAM execution role that gives SageMaker access to resources in your AWS account.\n",
    "# We can use the SageMaker Python SDK to get the role from our notebook environment. \n",
    "role = get_execution_role()"
   ]
  },
  {
   "cell_type": "markdown",
   "metadata": {},
   "source": [
    "训练模型用的超参数可以在笔记本里定义，与算法代码分离，在创建训练任务时传入，与训练任务动态结合。"
   ]
  },
  {
   "cell_type": "code",
   "execution_count": 34,
   "metadata": {},
   "outputs": [
    {
     "name": "stdout",
     "output_type": "stream",
     "text": [
      "{\n",
      "    \"seed\": 0,\n",
      "    \"learning-rate\": 0.0002,\n",
      "    \"epochs\": 5,\n",
      "    \"dataset\": \"qmnist\",\n",
      "    \"pin-memory\": 1,\n",
      "    \"beta1\": 0.5,\n",
      "    \"nc\": 1,\n",
      "    \"nz\": 100,\n",
      "    \"ngf\": 64,\n",
      "    \"ndf\": 64,\n",
      "    \"batch-size\": 64,\n",
      "    \"sample-interval\": 100,\n",
      "    \"log-interval\": 20\n",
      "}\n"
     ]
    }
   ],
   "source": [
    "import json\n",
    "\n",
    "hps = confsets[dataset]['hps']\n",
    "epochs = hps['epochs']\n",
    "nc = hps['nc']\n",
    "nz = hps['nz']\n",
    "ngf = hps['ngf']\n",
    "ndf = hps['ndf']\n",
    "batch_size = hps['batch-size']\n",
    "\n",
    "print(json.dumps(hps, indent = 4))"
   ]
  },
  {
   "cell_type": "markdown",
   "metadata": {},
   "source": [
    "您可以使用 ```PyTorch``` 类创建训练任务。参数 ``train_instance_type`` 可以用来指定CPU或者GPU实例类型，训练脚本和包括模型代码所在的目录通过 ``source_dir`` 指定，训练脚本文件名必须通过 ``entry_point`` 明确定义。这些参数将和其余参数一起被传递给训练任务，决定了训练任务的运行环境和模型训练时参数。"
   ]
  },
  {
   "cell_type": "code",
   "execution_count": 35,
   "metadata": {
    "scrolled": true
   },
   "outputs": [],
   "source": [
    "from sagemaker.pytorch import PyTorch\n",
    "\n",
    "estimator = PyTorch(role=role,\n",
    "                        entry_point='train.py',\n",
    "                        source_dir='dcgan',\n",
    "                        output_path=s3_model_artifacts_location,\n",
    "                        code_location=s3_custom_code_upload_location,\n",
    "                        train_instance_count=1,\n",
    "#                         train_instance_type='local',\n",
    "                        train_instance_type='ml.p3.2xlarge',\n",
    "#                         train_instance_type='ml.g4dn.xlarge',\n",
    "#                         train_instance_type='ml.c5.large',\n",
    "                        train_use_spot_instances=True,\n",
    "                        train_max_wait=86400,\n",
    "                        framework_version='1.4.0',\n",
    "                        py_version='py3',\n",
    "                        hyperparameters=hps)"
   ]
  },
  {
   "cell_type": "markdown",
   "metadata": {},
   "source": [
    "您已经创建了 PyTorch 对象，下面您可以用它来拟合预先存在 Amazon S3 上的数据了。下面的指令将执行训练任务，训练数据将以名为 **QMNIST** 的输入通道的方式导入训练环境。训练执行过程中，Amazon S3 上的训练数据将被下载到模型训练环境的本地文件系统，```train.py``` 脚本从本地磁盘加载数据进行训练。\n",
    "\n"
   ]
  },
  {
   "cell_type": "code",
   "execution_count": 36,
   "metadata": {
    "scrolled": true
   },
   "outputs": [
    {
     "name": "stdout",
     "output_type": "stream",
     "text": [
      "CPU times: user 47.4 ms, sys: 7.07 ms, total: 54.5 ms\n",
      "Wall time: 356 ms\n"
     ]
    }
   ],
   "source": [
    "%%time\n",
    "# Start training\n",
    "estimator.fit({subfolder: s3_data_location}, wait=False)"
   ]
  },
  {
   "cell_type": "code",
   "execution_count": 37,
   "metadata": {
    "scrolled": true
   },
   "outputs": [
    {
     "name": "stdout",
     "output_type": "stream",
     "text": [
      "2020-04-06 17:03:38 Starting - Starting the training job...\n",
      "2020-04-06 17:03:40 Starting - Launching requested ML instances......\n",
      "2020-04-06 17:04:42 Starting - Preparing the instances for training......\n",
      "2020-04-06 17:06:01 Downloading - Downloading input data\n",
      "2020-04-06 17:06:01 Training - Downloading the training image..........\u001b[34mbash: cannot set terminal process group (-1): Inappropriate ioctl for device\u001b[0m\n",
      "\u001b[34mbash: no job control in this shell\u001b[0m\n",
      "\u001b[34m2020-04-06 17:07:41,385 sagemaker-containers INFO     Imported framework sagemaker_pytorch_container.training\u001b[0m\n",
      "\u001b[34m2020-04-06 17:07:41,409 sagemaker_pytorch_container.training INFO     Block until all host DNS lookups succeed.\u001b[0m\n",
      "\u001b[34m2020-04-06 17:07:42,824 sagemaker_pytorch_container.training INFO     Invoking user training script.\u001b[0m\n",
      "\u001b[34m2020-04-06 17:07:43,104 sagemaker-containers INFO     Module default_user_module_name does not provide a setup.py. \u001b[0m\n",
      "\u001b[34mGenerating setup.py\u001b[0m\n",
      "\u001b[34m2020-04-06 17:07:43,105 sagemaker-containers INFO     Generating setup.cfg\u001b[0m\n",
      "\u001b[34m2020-04-06 17:07:43,105 sagemaker-containers INFO     Generating MANIFEST.in\u001b[0m\n",
      "\u001b[34m2020-04-06 17:07:43,105 sagemaker-containers INFO     Installing module with the following command:\u001b[0m\n",
      "\u001b[34m/opt/conda/bin/python -m pip install . \u001b[0m\n",
      "\u001b[34mProcessing /tmp/tmpeh7xmqpx/module_dir\u001b[0m\n",
      "\u001b[34mBuilding wheels for collected packages: default-user-module-name\n",
      "  Building wheel for default-user-module-name (setup.py): started\n",
      "  Building wheel for default-user-module-name (setup.py): finished with status 'done'\n",
      "  Created wheel for default-user-module-name: filename=default_user_module_name-1.0.0-py2.py3-none-any.whl size=24608 sha256=c32e9e6a05bd14df56525b3b836b8adc14919f64a549378a3a1715fab87b7b22\n",
      "  Stored in directory: /tmp/pip-ephem-wheel-cache-x1t2akdb/wheels/c0/04/2a/26c514d58e802d4cfb6ce2d502b99184b07ef21fe501d8f016\u001b[0m\n",
      "\u001b[34mSuccessfully built default-user-module-name\u001b[0m\n",
      "\u001b[34mInstalling collected packages: default-user-module-name\u001b[0m\n",
      "\u001b[34mSuccessfully installed default-user-module-name-1.0.0\u001b[0m\n",
      "\u001b[34m2020-04-06 17:07:45,328 sagemaker-containers INFO     Invoking user script\n",
      "\u001b[0m\n",
      "\u001b[34mTraining Env:\n",
      "\u001b[0m\n",
      "\u001b[34m{\n",
      "    \"additional_framework_parameters\": {},\n",
      "    \"channel_input_dirs\": {\n",
      "        \"QMNIST\": \"/opt/ml/input/data/QMNIST\"\n",
      "    },\n",
      "    \"current_host\": \"algo-1\",\n",
      "    \"framework_module\": \"sagemaker_pytorch_container.training:main\",\n",
      "    \"hosts\": [\n",
      "        \"algo-1\"\n",
      "    ],\n",
      "    \"hyperparameters\": {\n",
      "        \"log-interval\": 20,\n",
      "        \"seed\": 0,\n",
      "        \"ngf\": 64,\n",
      "        \"nz\": 100,\n",
      "        \"batch-size\": 64,\n",
      "        \"sample-interval\": 100,\n",
      "        \"ndf\": 64,\n",
      "        \"learning-rate\": 0.0002,\n",
      "        \"beta1\": 0.5,\n",
      "        \"nc\": 1,\n",
      "        \"pin-memory\": 1,\n",
      "        \"dataset\": \"qmnist\",\n",
      "        \"epochs\": 5\n",
      "    },\n",
      "    \"input_config_dir\": \"/opt/ml/input/config\",\n",
      "    \"input_data_config\": {\n",
      "        \"QMNIST\": {\n",
      "            \"TrainingInputMode\": \"File\",\n",
      "            \"S3DistributionType\": \"FullyReplicated\",\n",
      "            \"RecordWrapperType\": \"None\"\n",
      "        }\n",
      "    },\n",
      "    \"input_dir\": \"/opt/ml/input\",\n",
      "    \"is_master\": true,\n",
      "    \"job_name\": \"pytorch-training-2020-04-06-17-03-38-248\",\n",
      "    \"log_level\": 20,\n",
      "    \"master_hostname\": \"algo-1\",\n",
      "    \"model_dir\": \"/opt/ml/model\",\n",
      "    \"module_dir\": \"s3://sagemaker-us-west-2-533025023261/customcode/byom-pytorch-gan/pytorch-training-2020-04-06-17-03-38-248/source/sourcedir.tar.gz\",\n",
      "    \"module_name\": \"train\",\n",
      "    \"network_interface_name\": \"eth0\",\n",
      "    \"num_cpus\": 8,\n",
      "    \"num_gpus\": 1,\n",
      "    \"output_data_dir\": \"/opt/ml/output/data\",\n",
      "    \"output_dir\": \"/opt/ml/output\",\n",
      "    \"output_intermediate_dir\": \"/opt/ml/output/intermediate\",\n",
      "    \"resource_config\": {\n",
      "        \"current_host\": \"algo-1\",\n",
      "        \"hosts\": [\n",
      "            \"algo-1\"\n",
      "        ],\n",
      "        \"network_interface_name\": \"eth0\"\n",
      "    },\n",
      "    \"user_entry_point\": \"train.py\"\u001b[0m\n",
      "\u001b[34m}\n",
      "\u001b[0m\n",
      "\u001b[34mEnvironment variables:\n",
      "\u001b[0m\n",
      "\u001b[34mSM_HOSTS=[\"algo-1\"]\u001b[0m\n",
      "\u001b[34mSM_NETWORK_INTERFACE_NAME=eth0\u001b[0m\n",
      "\u001b[34mSM_HPS={\"batch-size\":64,\"beta1\":0.5,\"dataset\":\"qmnist\",\"epochs\":5,\"learning-rate\":0.0002,\"log-interval\":20,\"nc\":1,\"ndf\":64,\"ngf\":64,\"nz\":100,\"pin-memory\":1,\"sample-interval\":100,\"seed\":0}\u001b[0m\n",
      "\u001b[34mSM_USER_ENTRY_POINT=train.py\u001b[0m\n",
      "\u001b[34mSM_FRAMEWORK_PARAMS={}\u001b[0m\n",
      "\u001b[34mSM_RESOURCE_CONFIG={\"current_host\":\"algo-1\",\"hosts\":[\"algo-1\"],\"network_interface_name\":\"eth0\"}\u001b[0m\n",
      "\u001b[34mSM_INPUT_DATA_CONFIG={\"QMNIST\":{\"RecordWrapperType\":\"None\",\"S3DistributionType\":\"FullyReplicated\",\"TrainingInputMode\":\"File\"}}\u001b[0m\n",
      "\u001b[34mSM_OUTPUT_DATA_DIR=/opt/ml/output/data\u001b[0m\n",
      "\u001b[34mSM_CHANNELS=[\"QMNIST\"]\u001b[0m\n",
      "\u001b[34mSM_CURRENT_HOST=algo-1\u001b[0m\n",
      "\u001b[34mSM_MODULE_NAME=train\u001b[0m\n",
      "\u001b[34mSM_LOG_LEVEL=20\u001b[0m\n",
      "\u001b[34mSM_FRAMEWORK_MODULE=sagemaker_pytorch_container.training:main\u001b[0m\n",
      "\u001b[34mSM_INPUT_DIR=/opt/ml/input\u001b[0m\n",
      "\u001b[34mSM_INPUT_CONFIG_DIR=/opt/ml/input/config\u001b[0m\n",
      "\u001b[34mSM_OUTPUT_DIR=/opt/ml/output\u001b[0m\n",
      "\u001b[34mSM_NUM_CPUS=8\u001b[0m\n",
      "\u001b[34mSM_NUM_GPUS=1\u001b[0m\n",
      "\u001b[34mSM_MODEL_DIR=/opt/ml/model\u001b[0m\n",
      "\u001b[34mSM_MODULE_DIR=s3://sagemaker-us-west-2-533025023261/customcode/byom-pytorch-gan/pytorch-training-2020-04-06-17-03-38-248/source/sourcedir.tar.gz\u001b[0m\n",
      "\u001b[34mSM_TRAINING_ENV={\"additional_framework_parameters\":{},\"channel_input_dirs\":{\"QMNIST\":\"/opt/ml/input/data/QMNIST\"},\"current_host\":\"algo-1\",\"framework_module\":\"sagemaker_pytorch_container.training:main\",\"hosts\":[\"algo-1\"],\"hyperparameters\":{\"batch-size\":64,\"beta1\":0.5,\"dataset\":\"qmnist\",\"epochs\":5,\"learning-rate\":0.0002,\"log-interval\":20,\"nc\":1,\"ndf\":64,\"ngf\":64,\"nz\":100,\"pin-memory\":1,\"sample-interval\":100,\"seed\":0},\"input_config_dir\":\"/opt/ml/input/config\",\"input_data_config\":{\"QMNIST\":{\"RecordWrapperType\":\"None\",\"S3DistributionType\":\"FullyReplicated\",\"TrainingInputMode\":\"File\"}},\"input_dir\":\"/opt/ml/input\",\"is_master\":true,\"job_name\":\"pytorch-training-2020-04-06-17-03-38-248\",\"log_level\":20,\"master_hostname\":\"algo-1\",\"model_dir\":\"/opt/ml/model\",\"module_dir\":\"s3://sagemaker-us-west-2-533025023261/customcode/byom-pytorch-gan/pytorch-training-2020-04-06-17-03-38-248/source/sourcedir.tar.gz\",\"module_name\":\"train\",\"network_interface_name\":\"eth0\",\"num_cpus\":8,\"num_gpus\":1,\"output_data_dir\":\"/opt/ml/output/data\",\"output_dir\":\"/opt/ml/output\",\"output_intermediate_dir\":\"/opt/ml/output/intermediate\",\"resource_config\":{\"current_host\":\"algo-1\",\"hosts\":[\"algo-1\"],\"network_interface_name\":\"eth0\"},\"user_entry_point\":\"train.py\"}\u001b[0m\n",
      "\u001b[34mSM_USER_ARGS=[\"--batch-size\",\"64\",\"--beta1\",\"0.5\",\"--dataset\",\"qmnist\",\"--epochs\",\"5\",\"--learning-rate\",\"0.0002\",\"--log-interval\",\"20\",\"--nc\",\"1\",\"--ndf\",\"64\",\"--ngf\",\"64\",\"--nz\",\"100\",\"--pin-memory\",\"1\",\"--sample-interval\",\"100\",\"--seed\",\"0\"]\u001b[0m\n",
      "\u001b[34mSM_OUTPUT_INTERMEDIATE_DIR=/opt/ml/output/intermediate\u001b[0m\n",
      "\u001b[34mSM_CHANNEL_QMNIST=/opt/ml/input/data/QMNIST\u001b[0m\n",
      "\u001b[34mSM_HP_LOG-INTERVAL=20\u001b[0m\n",
      "\u001b[34mSM_HP_SEED=0\u001b[0m\n",
      "\u001b[34mSM_HP_NGF=64\u001b[0m\n",
      "\u001b[34mSM_HP_NZ=100\u001b[0m\n",
      "\u001b[34mSM_HP_BATCH-SIZE=64\u001b[0m\n",
      "\u001b[34mSM_HP_SAMPLE-INTERVAL=100\u001b[0m\n",
      "\u001b[34mSM_HP_NDF=64\u001b[0m\n",
      "\u001b[34mSM_HP_LEARNING-RATE=0.0002\u001b[0m\n",
      "\u001b[34mSM_HP_BETA1=0.5\u001b[0m\n",
      "\u001b[34mSM_HP_NC=1\u001b[0m\n",
      "\u001b[34mSM_HP_PIN-MEMORY=1\u001b[0m\n",
      "\u001b[34mSM_HP_DATASET=qmnist\u001b[0m\n",
      "\u001b[34mSM_HP_EPOCHS=5\u001b[0m\n",
      "\u001b[34mPYTHONPATH=/opt/ml/code:/opt/conda/bin:/opt/conda/lib/python36.zip:/opt/conda/lib/python3.6:/opt/conda/lib/python3.6/lib-dynload:/opt/conda/lib/python3.6/site-packages\n",
      "\u001b[0m\n",
      "\u001b[34mInvoking script with the following command:\n",
      "\u001b[0m\n",
      "\u001b[34m/opt/conda/bin/python train.py --batch-size 64 --beta1 0.5 --dataset qmnist --epochs 5 --learning-rate 0.0002 --log-interval 20 --nc 1 --ndf 64 --ngf 64 --nz 100 --pin-memory 1 --sample-interval 100 --seed 0\n",
      "\n",
      "\u001b[0m\n",
      "\u001b[34mProvided Random Seed: 0\u001b[0m\n",
      "\u001b[34mNumber of gpus available: 1\u001b[0m\n",
      "\u001b[34mdataname: qmnist, dataroot: /opt/ml/input/data, image_size: 64\u001b[0m\n",
      "\u001b[34m[2020-04-06 17:07:49.955 algo-1:46 INFO json_config.py:90] Creating hook from json_config at /opt/ml/input/config/debughookconfig.json.\u001b[0m\n",
      "\u001b[34m[2020-04-06 17:07:49.956 algo-1:46 INFO hook.py:170] tensorboard_dir has not been set for the hook. SMDebug will not be exporting tensorboard summaries.\u001b[0m\n",
      "\u001b[34m[2020-04-06 17:07:49.956 algo-1:46 INFO hook.py:215] Saving to /opt/ml/output/tensors\u001b[0m\n",
      "\u001b[34m[2020-04-06 17:07:49.968 algo-1:46 INFO hook.py:351] Monitoring the collections: losses\u001b[0m\n",
      "\u001b[34mEpoch[0/5], Batch[0/938], Loss_D: 1.719, Loss_G: 6.977, D(x): 0.891, D(G(z)): 0.7439/0.001605\u001b[0m\n",
      "\u001b[34mEpoch[0/5], Batch[20/938], Loss_D: 0.02632, Loss_G: 24.59, D(x): 0.976, D(G(z)): 4.234e-07/5.229e-11\u001b[0m\n",
      "\u001b[34mEpoch[0/5], Batch[40/938], Loss_D: 0.1464, Loss_G: 5.974, D(x): 0.9717, D(G(z)): 0.03806/0.003656\u001b[0m\n",
      "\u001b[34mEpoch[0/5], Batch[60/938], Loss_D: 0.05664, Loss_G: 7.983, D(x): 0.9722, D(G(z)): 0.017/0.0005552\u001b[0m\n",
      "\u001b[34mEpoch[0/5], Batch[80/938], Loss_D: 0.02505, Loss_G: 7.392, D(x): 0.9896, D(G(z)): 0.0136/0.000798\u001b[0m\n",
      "\u001b[34mEpoch[0/5], Batch[100/938], Loss_D: 0.03552, Loss_G: 8.029, D(x): 0.9691, D(G(z)): 0.0009193/0.000449\u001b[0m\n",
      "\u001b[34mEpoch[0/5], Batch[120/938], Loss_D: 0.7892, Loss_G: 23.76, D(x): 0.6841, D(G(z)): 3.26e-11/1.622e-10\u001b[0m\n",
      "\u001b[34mEpoch[0/5], Batch[140/938], Loss_D: 0.09173, Loss_G: 3.307, D(x): 0.9655, D(G(z)): 0.04999/0.04996\u001b[0m\n",
      "\u001b[34mEpoch[0/5], Batch[160/938], Loss_D: 0.1331, Loss_G: 4.177, D(x): 0.9475, D(G(z)): 0.06729/0.02355\u001b[0m\n",
      "\n",
      "2020-04-06 17:07:40 Training - Training image download completed. Training in progress.\u001b[34mEpoch[0/5], Batch[180/938], Loss_D: 0.1389, Loss_G: 5.05, D(x): 0.941, D(G(z)): 0.05983/0.009006\u001b[0m\n",
      "\u001b[34mEpoch[0/5], Batch[200/938], Loss_D: 0.3154, Loss_G: 3.73, D(x): 0.8415, D(G(z)): 0.1041/0.04159\u001b[0m\n",
      "\u001b[34mEpoch[0/5], Batch[220/938], Loss_D: 0.6499, Loss_G: 9.418, D(x): 0.9844, D(G(z)): 0.394/0.0001742\u001b[0m\n",
      "\u001b[34mEpoch[0/5], Batch[240/938], Loss_D: 0.5946, Loss_G: 6.099, D(x): 0.8423, D(G(z)): 0.2391/0.004267\u001b[0m\n",
      "\u001b[34mEpoch[0/5], Batch[260/938], Loss_D: 0.09486, Loss_G: 4.852, D(x): 0.9555, D(G(z)): 0.0442/0.01308\u001b[0m\n",
      "\u001b[34mEpoch[0/5], Batch[280/938], Loss_D: 0.1674, Loss_G: 4.342, D(x): 0.9145, D(G(z)): 0.03763/0.02091\u001b[0m\n",
      "\u001b[34mEpoch[0/5], Batch[300/938], Loss_D: 0.1712, Loss_G: 5.739, D(x): 0.979, D(G(z)): 0.1258/0.00578\u001b[0m\n",
      "\u001b[34mEpoch[0/5], Batch[320/938], Loss_D: 0.5143, Loss_G: 3.255, D(x): 0.7567, D(G(z)): 0.1583/0.05089\u001b[0m\n",
      "\u001b[34mEpoch[0/5], Batch[340/938], Loss_D: 0.1129, Loss_G: 4.239, D(x): 0.9488, D(G(z)): 0.05439/0.02555\u001b[0m\n",
      "\u001b[34mEpoch[0/5], Batch[360/938], Loss_D: 0.1234, Loss_G: 4.219, D(x): 0.961, D(G(z)): 0.07612/0.02269\u001b[0m\n",
      "\u001b[34mEpoch[0/5], Batch[380/938], Loss_D: 0.1921, Loss_G: 3.628, D(x): 0.8505, D(G(z)): 0.007972/0.04519\u001b[0m\n",
      "\u001b[34mEpoch[0/5], Batch[400/938], Loss_D: 0.05772, Loss_G: 4.942, D(x): 0.961, D(G(z)): 0.01461/0.01253\u001b[0m\n",
      "\u001b[34mEpoch[0/5], Batch[420/938], Loss_D: 0.5277, Loss_G: 2.648, D(x): 0.8541, D(G(z)): 0.2814/0.09007\u001b[0m\n",
      "\u001b[34mEpoch[0/5], Batch[440/938], Loss_D: 0.3784, Loss_G: 3.346, D(x): 0.8642, D(G(z)): 0.1797/0.04628\u001b[0m\n",
      "\u001b[34mEpoch[0/5], Batch[460/938], Loss_D: 0.2557, Loss_G: 2.701, D(x): 0.886, D(G(z)): 0.1138/0.08831\u001b[0m\n",
      "\u001b[34mEpoch[0/5], Batch[480/938], Loss_D: 0.2051, Loss_G: 2.766, D(x): 0.867, D(G(z)): 0.05142/0.08362\u001b[0m\n",
      "\u001b[34mEpoch[0/5], Batch[500/938], Loss_D: 0.1347, Loss_G: 3.291, D(x): 0.9181, D(G(z)): 0.04243/0.0496\u001b[0m\n",
      "\u001b[34mEpoch[0/5], Batch[520/938], Loss_D: 0.2555, Loss_G: 1.798, D(x): 0.8533, D(G(z)): 0.07937/0.2174\u001b[0m\n",
      "\u001b[34mEpoch[0/5], Batch[540/938], Loss_D: 0.169, Loss_G: 3.652, D(x): 0.961, D(G(z)): 0.1114/0.03654\u001b[0m\n",
      "\u001b[34mEpoch[0/5], Batch[560/938], Loss_D: 0.2021, Loss_G: 3.911, D(x): 0.9671, D(G(z)): 0.1444/0.02589\u001b[0m\n",
      "\u001b[34mEpoch[0/5], Batch[580/938], Loss_D: 0.1568, Loss_G: 2.563, D(x): 0.8796, D(G(z)): 0.0222/0.1022\u001b[0m\n",
      "\u001b[34mEpoch[0/5], Batch[600/938], Loss_D: 0.719, Loss_G: 1.474, D(x): 0.6545, D(G(z)): 0.2078/0.2747\u001b[0m\n",
      "\u001b[34mEpoch[0/5], Batch[620/938], Loss_D: 0.499, Loss_G: 1.717, D(x): 0.7309, D(G(z)): 0.1308/0.2255\u001b[0m\n",
      "\u001b[34mEpoch[0/5], Batch[640/938], Loss_D: 0.4175, Loss_G: 2.164, D(x): 0.8109, D(G(z)): 0.1601/0.1406\u001b[0m\n",
      "\u001b[34mEpoch[0/5], Batch[660/938], Loss_D: 0.6059, Loss_G: 4.07, D(x): 0.9709, D(G(z)): 0.3845/0.02392\u001b[0m\n",
      "\u001b[34mEpoch[0/5], Batch[680/938], Loss_D: 0.5091, Loss_G: 2.837, D(x): 0.9037, D(G(z)): 0.2789/0.08417\u001b[0m\n",
      "\u001b[34mEpoch[0/5], Batch[700/938], Loss_D: 0.5109, Loss_G: 3.362, D(x): 0.9795, D(G(z)): 0.3208/0.05178\u001b[0m\n",
      "\u001b[34mEpoch[0/5], Batch[720/938], Loss_D: 0.3203, Loss_G: 3.735, D(x): 0.9558, D(G(z)): 0.2164/0.03294\u001b[0m\n",
      "\u001b[34mEpoch[0/5], Batch[740/938], Loss_D: 0.6073, Loss_G: 1.742, D(x): 0.7067, D(G(z)): 0.1671/0.2505\u001b[0m\n",
      "\u001b[34mEpoch[0/5], Batch[760/938], Loss_D: 0.2248, Loss_G: 3.26, D(x): 0.9262, D(G(z)): 0.1293/0.05351\u001b[0m\n",
      "\u001b[34mEpoch[0/5], Batch[780/938], Loss_D: 0.3263, Loss_G: 4.916, D(x): 0.9761, D(G(z)): 0.2385/0.009682\u001b[0m\n",
      "\u001b[34mEpoch[0/5], Batch[800/938], Loss_D: 0.7354, Loss_G: 3.552, D(x): 0.8854, D(G(z)): 0.4007/0.03711\u001b[0m\n",
      "\u001b[34mEpoch[0/5], Batch[820/938], Loss_D: 0.3247, Loss_G: 2.881, D(x): 0.897, D(G(z)): 0.1782/0.06863\u001b[0m\n",
      "\u001b[34mEpoch[0/5], Batch[840/938], Loss_D: 0.2849, Loss_G: 2.085, D(x): 0.8487, D(G(z)): 0.09192/0.1582\u001b[0m\n",
      "\u001b[34mEpoch[0/5], Batch[860/938], Loss_D: 0.8319, Loss_G: 2.104, D(x): 0.8458, D(G(z)): 0.4184/0.156\u001b[0m\n",
      "\u001b[34mEpoch[0/5], Batch[880/938], Loss_D: 0.61, Loss_G: 1.249, D(x): 0.6238, D(G(z)): 0.04775/0.3543\u001b[0m\n",
      "\u001b[34mEpoch[0/5], Batch[900/938], Loss_D: 0.2833, Loss_G: 2.457, D(x): 0.8148, D(G(z)): 0.04563/0.1249\u001b[0m\n",
      "\u001b[34mEpoch[0/5], Batch[920/938], Loss_D: 0.9036, Loss_G: 3.959, D(x): 0.9418, D(G(z)): 0.5244/0.02962\u001b[0m\n",
      "\u001b[34mEpoch[1/5], Batch[0/938], Loss_D: 0.3684, Loss_G: 3.977, D(x): 0.9029, D(G(z)): 0.2037/0.03092\u001b[0m\n",
      "\u001b[34mEpoch[1/5], Batch[20/938], Loss_D: 0.1985, Loss_G: 2.159, D(x): 0.9085, D(G(z)): 0.08825/0.1408\u001b[0m\n",
      "\u001b[34mEpoch[1/5], Batch[40/938], Loss_D: 0.4642, Loss_G: 2.294, D(x): 0.7606, D(G(z)): 0.1252/0.1367\u001b[0m\n",
      "\u001b[34mEpoch[1/5], Batch[60/938], Loss_D: 0.5849, Loss_G: 2.292, D(x): 0.8264, D(G(z)): 0.2632/0.1479\u001b[0m\n",
      "\u001b[34mEpoch[1/5], Batch[80/938], Loss_D: 0.1857, Loss_G: 2.957, D(x): 0.9487, D(G(z)): 0.1165/0.06991\u001b[0m\n",
      "\u001b[34mEpoch[1/5], Batch[100/938], Loss_D: 0.3963, Loss_G: 1.802, D(x): 0.7869, D(G(z)): 0.1087/0.2062\u001b[0m\n",
      "\u001b[34mEpoch[1/5], Batch[120/938], Loss_D: 0.2836, Loss_G: 4.177, D(x): 0.9676, D(G(z)): 0.1979/0.02007\u001b[0m\n",
      "\u001b[34mEpoch[1/5], Batch[140/938], Loss_D: 0.2214, Loss_G: 3.439, D(x): 0.8541, D(G(z)): 0.04863/0.04624\u001b[0m\n",
      "\u001b[34mEpoch[1/5], Batch[160/938], Loss_D: 0.9862, Loss_G: 0.8036, D(x): 0.5086, D(G(z)): 0.1461/0.498\u001b[0m\n",
      "\u001b[34mEpoch[1/5], Batch[180/938], Loss_D: 0.4371, Loss_G: 2.104, D(x): 0.865, D(G(z)): 0.2182/0.1485\u001b[0m\n",
      "\u001b[34mEpoch[1/5], Batch[200/938], Loss_D: 0.2595, Loss_G: 2.684, D(x): 0.8579, D(G(z)): 0.08733/0.08968\u001b[0m\n",
      "\u001b[34mEpoch[1/5], Batch[220/938], Loss_D: 0.2694, Loss_G: 3.026, D(x): 0.9066, D(G(z)): 0.1462/0.06377\u001b[0m\n",
      "\u001b[34mEpoch[1/5], Batch[240/938], Loss_D: 0.1965, Loss_G: 2.863, D(x): 0.9279, D(G(z)): 0.1084/0.06963\u001b[0m\n",
      "\u001b[34mEpoch[1/5], Batch[260/938], Loss_D: 0.6368, Loss_G: 2.462, D(x): 0.8752, D(G(z)): 0.3476/0.1032\u001b[0m\n",
      "\u001b[34mEpoch[1/5], Batch[280/938], Loss_D: 0.7111, Loss_G: 1.683, D(x): 0.5612, D(G(z)): 0.01414/0.2487\u001b[0m\n",
      "\u001b[34mEpoch[1/5], Batch[300/938], Loss_D: 0.1662, Loss_G: 3.304, D(x): 0.8998, D(G(z)): 0.05219/0.04898\u001b[0m\n",
      "\u001b[34mEpoch[1/5], Batch[320/938], Loss_D: 0.9686, Loss_G: 1.812, D(x): 0.4836, D(G(z)): 0.01001/0.2384\u001b[0m\n",
      "\u001b[34mEpoch[1/5], Batch[340/938], Loss_D: 0.3947, Loss_G: 2.792, D(x): 0.8935, D(G(z)): 0.2208/0.07559\u001b[0m\n",
      "\u001b[34mEpoch[1/5], Batch[360/938], Loss_D: 0.1083, Loss_G: 3.713, D(x): 0.9554, D(G(z)): 0.05794/0.03438\u001b[0m\n",
      "\u001b[34mEpoch[1/5], Batch[380/938], Loss_D: 0.8248, Loss_G: 7.508, D(x): 0.9927, D(G(z)): 0.4869/0.0009041\u001b[0m\n",
      "\u001b[34mEpoch[1/5], Batch[400/938], Loss_D: 0.3668, Loss_G: 3.341, D(x): 0.8453, D(G(z)): 0.155/0.04655\u001b[0m\n",
      "\u001b[34mEpoch[1/5], Batch[420/938], Loss_D: 0.2549, Loss_G: 2.614, D(x): 0.8793, D(G(z)): 0.1063/0.09676\u001b[0m\n",
      "\u001b[34mEpoch[1/5], Batch[440/938], Loss_D: 0.2303, Loss_G: 3.771, D(x): 0.9593, D(G(z)): 0.1637/0.02951\u001b[0m\n",
      "\u001b[34mEpoch[1/5], Batch[460/938], Loss_D: 0.3821, Loss_G: 2.302, D(x): 0.7785, D(G(z)): 0.1015/0.132\u001b[0m\n",
      "\u001b[34mEpoch[1/5], Batch[480/938], Loss_D: 0.2843, Loss_G: 2.816, D(x): 0.8706, D(G(z)): 0.1176/0.08375\u001b[0m\n",
      "\u001b[34mEpoch[1/5], Batch[500/938], Loss_D: 0.1851, Loss_G: 3.795, D(x): 0.9574, D(G(z)): 0.1235/0.03221\u001b[0m\n",
      "\u001b[34mEpoch[1/5], Batch[520/938], Loss_D: 0.2207, Loss_G: 2.657, D(x): 0.8685, D(G(z)): 0.05182/0.09667\u001b[0m\n",
      "\u001b[34mEpoch[1/5], Batch[540/938], Loss_D: 0.5171, Loss_G: 8.796, D(x): 0.9886, D(G(z)): 0.3527/0.0002481\u001b[0m\n",
      "\u001b[34mEpoch[1/5], Batch[560/938], Loss_D: 1.12, Loss_G: 1.478, D(x): 0.4755, D(G(z)): 0.183/0.3094\u001b[0m\n",
      "\u001b[34mEpoch[1/5], Batch[580/938], Loss_D: 0.6594, Loss_G: 1.933, D(x): 0.6066, D(G(z)): 0.06983/0.2023\u001b[0m\n",
      "\u001b[34mEpoch[1/5], Batch[600/938], Loss_D: 0.2511, Loss_G: 3.42, D(x): 0.9351, D(G(z)): 0.1546/0.04348\u001b[0m\n",
      "\u001b[34mEpoch[1/5], Batch[620/938], Loss_D: 0.3421, Loss_G: 5.524, D(x): 0.9647, D(G(z)): 0.2459/0.005042\u001b[0m\n",
      "\u001b[34mEpoch[1/5], Batch[640/938], Loss_D: 0.2581, Loss_G: 3.414, D(x): 0.9721, D(G(z)): 0.1926/0.04189\u001b[0m\n",
      "\u001b[34mEpoch[1/5], Batch[660/938], Loss_D: 0.2146, Loss_G: 3.215, D(x): 0.9368, D(G(z)): 0.1239/0.05365\u001b[0m\n",
      "\u001b[34mEpoch[1/5], Batch[680/938], Loss_D: 0.192, Loss_G: 5.152, D(x): 0.9747, D(G(z)): 0.1403/0.007843\u001b[0m\n",
      "\u001b[34mEpoch[1/5], Batch[700/938], Loss_D: 0.08545, Loss_G: 5.026, D(x): 0.9823, D(G(z)): 0.06278/0.009827\u001b[0m\n",
      "\u001b[34mEpoch[1/5], Batch[720/938], Loss_D: 0.6877, Loss_G: 1.978, D(x): 0.7433, D(G(z)): 0.2881/0.1643\u001b[0m\n",
      "\u001b[34mEpoch[1/5], Batch[740/938], Loss_D: 0.6786, Loss_G: 2.708, D(x): 0.7537, D(G(z)): 0.2864/0.07757\u001b[0m\n",
      "\u001b[34mEpoch[1/5], Batch[760/938], Loss_D: 1.119, Loss_G: 4.734, D(x): 0.9618, D(G(z)): 0.5782/0.0135\u001b[0m\n",
      "\u001b[34mEpoch[1/5], Batch[780/938], Loss_D: 0.227, Loss_G: 3.328, D(x): 0.948, D(G(z)): 0.1457/0.04427\u001b[0m\n",
      "\u001b[34mEpoch[1/5], Batch[800/938], Loss_D: 0.5975, Loss_G: 1.874, D(x): 0.7397, D(G(z)): 0.2005/0.1898\u001b[0m\n",
      "\u001b[34mEpoch[1/5], Batch[820/938], Loss_D: 0.2509, Loss_G: 3.243, D(x): 0.908, D(G(z)): 0.1239/0.05237\u001b[0m\n",
      "\u001b[34mEpoch[1/5], Batch[840/938], Loss_D: 0.3294, Loss_G: 2.509, D(x): 0.901, D(G(z)): 0.175/0.1174\u001b[0m\n",
      "\u001b[34mEpoch[1/5], Batch[860/938], Loss_D: 0.1307, Loss_G: 3.37, D(x): 0.9405, D(G(z)): 0.05767/0.05208\u001b[0m\n",
      "\u001b[34mEpoch[1/5], Batch[880/938], Loss_D: 0.1691, Loss_G: 3.938, D(x): 0.8577, D(G(z)): 0.006585/0.02749\u001b[0m\n",
      "\u001b[34mEpoch[1/5], Batch[900/938], Loss_D: 0.6126, Loss_G: 7.845, D(x): 0.9971, D(G(z)): 0.4109/0.00063\u001b[0m\n",
      "\u001b[34mEpoch[1/5], Batch[920/938], Loss_D: 1.488, Loss_G: 0.478, D(x): 0.3126, D(G(z)): 0.02623/0.6547\u001b[0m\n",
      "\u001b[34mEpoch[2/5], Batch[0/938], Loss_D: 0.3866, Loss_G: 3.958, D(x): 0.7713, D(G(z)): 0.07031/0.03482\u001b[0m\n",
      "\u001b[34mEpoch[2/5], Batch[20/938], Loss_D: 0.3183, Loss_G: 3.786, D(x): 0.9034, D(G(z)): 0.1766/0.03042\u001b[0m\n",
      "\u001b[34mEpoch[2/5], Batch[40/938], Loss_D: 0.6165, Loss_G: 6.828, D(x): 0.9088, D(G(z)): 0.3514/0.001742\u001b[0m\n",
      "\u001b[34mEpoch[2/5], Batch[60/938], Loss_D: 0.1653, Loss_G: 3.747, D(x): 0.8818, D(G(z)): 0.02738/0.03821\u001b[0m\n",
      "\u001b[34mEpoch[2/5], Batch[80/938], Loss_D: 0.112, Loss_G: 4.726, D(x): 0.9826, D(G(z)): 0.08437/0.01268\u001b[0m\n",
      "\u001b[34mEpoch[2/5], Batch[100/938], Loss_D: 0.08994, Loss_G: 4.445, D(x): 0.9239, D(G(z)): 0.008508/0.01902\u001b[0m\n",
      "\u001b[34mEpoch[2/5], Batch[120/938], Loss_D: 0.06432, Loss_G: 4.343, D(x): 0.9637, D(G(z)): 0.02556/0.01997\u001b[0m\n",
      "\u001b[34mEpoch[2/5], Batch[140/938], Loss_D: 0.03724, Loss_G: 4.882, D(x): 0.9821, D(G(z)): 0.01796/0.013\u001b[0m\n",
      "\u001b[34mEpoch[2/5], Batch[160/938], Loss_D: 3.225, Loss_G: 0.223, D(x): 0.07633, D(G(z)): 0.0002618/0.8168\u001b[0m\n",
      "\u001b[34mEpoch[2/5], Batch[180/938], Loss_D: 0.5392, Loss_G: 2.163, D(x): 0.7121, D(G(z)): 0.1302/0.1461\u001b[0m\n",
      "\u001b[34mEpoch[2/5], Batch[200/938], Loss_D: 1.121, Loss_G: 3.13, D(x): 0.9404, D(G(z)): 0.5667/0.07316\u001b[0m\n",
      "\u001b[34mEpoch[2/5], Batch[220/938], Loss_D: 0.7247, Loss_G: 2.454, D(x): 0.9236, D(G(z)): 0.3891/0.1159\u001b[0m\n",
      "\u001b[34mEpoch[2/5], Batch[240/938], Loss_D: 0.1898, Loss_G: 3.052, D(x): 0.8964, D(G(z)): 0.06953/0.06401\u001b[0m\n",
      "\u001b[34mEpoch[2/5], Batch[260/938], Loss_D: 0.6099, Loss_G: 5.657, D(x): 0.9831, D(G(z)): 0.3961/0.005019\u001b[0m\n",
      "\u001b[34mEpoch[2/5], Batch[280/938], Loss_D: 0.8309, Loss_G: 2.507, D(x): 0.758, D(G(z)): 0.3727/0.1092\u001b[0m\n",
      "\u001b[34mEpoch[2/5], Batch[300/938], Loss_D: 0.4391, Loss_G: 2.536, D(x): 0.8278, D(G(z)): 0.1757/0.1112\u001b[0m\n",
      "\u001b[34mEpoch[2/5], Batch[320/938], Loss_D: 0.1756, Loss_G: 3.365, D(x): 0.905, D(G(z)): 0.06386/0.0472\u001b[0m\n",
      "\u001b[34mEpoch[2/5], Batch[340/938], Loss_D: 0.1109, Loss_G: 3.621, D(x): 0.9269, D(G(z)): 0.02886/0.04167\u001b[0m\n",
      "\u001b[34mEpoch[2/5], Batch[360/938], Loss_D: 0.09074, Loss_G: 3.105, D(x): 0.9503, D(G(z)): 0.03591/0.06454\u001b[0m\n",
      "\u001b[34mEpoch[2/5], Batch[380/938], Loss_D: 0.08555, Loss_G: 4.496, D(x): 0.9673, D(G(z)): 0.04946/0.01576\u001b[0m\n",
      "\u001b[34mEpoch[2/5], Batch[400/938], Loss_D: 0.6026, Loss_G: 2.598, D(x): 0.8064, D(G(z)): 0.2771/0.09965\u001b[0m\n",
      "\u001b[34mEpoch[2/5], Batch[420/938], Loss_D: 0.158, Loss_G: 3.974, D(x): 0.9197, D(G(z)): 0.06277/0.02761\u001b[0m\n",
      "\u001b[34mEpoch[2/5], Batch[440/938], Loss_D: 2.328, Loss_G: 2.459, D(x): 0.1569, D(G(z)): 0.004158/0.1686\u001b[0m\n",
      "\u001b[34mEpoch[2/5], Batch[460/938], Loss_D: 0.3151, Loss_G: 4.291, D(x): 0.9687, D(G(z)): 0.2239/0.01931\u001b[0m\n",
      "\u001b[34mEpoch[2/5], Batch[480/938], Loss_D: 0.7276, Loss_G: 1.753, D(x): 0.6016, D(G(z)): 0.06091/0.2365\u001b[0m\n",
      "\u001b[34mEpoch[2/5], Batch[500/938], Loss_D: 0.689, Loss_G: 4.285, D(x): 0.9782, D(G(z)): 0.4201/0.02195\u001b[0m\n",
      "\u001b[34mEpoch[2/5], Batch[520/938], Loss_D: 0.514, Loss_G: 3.85, D(x): 0.9806, D(G(z)): 0.3489/0.03034\u001b[0m\n",
      "\u001b[34mEpoch[2/5], Batch[540/938], Loss_D: 0.1444, Loss_G: 3.89, D(x): 0.9322, D(G(z)): 0.06539/0.02965\u001b[0m\n",
      "\u001b[34mEpoch[2/5], Batch[560/938], Loss_D: 0.04371, Loss_G: 4.611, D(x): 0.9767, D(G(z)): 0.01944/0.01387\u001b[0m\n",
      "\u001b[34mEpoch[2/5], Batch[580/938], Loss_D: 0.03155, Loss_G: 4.689, D(x): 0.9787, D(G(z)): 0.009667/0.01506\u001b[0m\n",
      "\u001b[34mEpoch[2/5], Batch[600/938], Loss_D: 0.05168, Loss_G: 4.37, D(x): 0.9657, D(G(z)): 0.01485/0.02097\u001b[0m\n",
      "\u001b[34mEpoch[2/5], Batch[620/938], Loss_D: 0.09811, Loss_G: 3.357, D(x): 0.9359, D(G(z)): 0.02873/0.04852\u001b[0m\n",
      "\u001b[34mEpoch[2/5], Batch[640/938], Loss_D: 0.04012, Loss_G: 5.108, D(x): 0.9782, D(G(z)): 0.01722/0.008388\u001b[0m\n",
      "\u001b[34mEpoch[2/5], Batch[660/938], Loss_D: 0.05711, Loss_G: 4.74, D(x): 0.9778, D(G(z)): 0.03296/0.01326\u001b[0m\n",
      "\u001b[34mEpoch[2/5], Batch[680/938], Loss_D: 0.6321, Loss_G: 1.462, D(x): 0.68, D(G(z)): 0.1624/0.2802\u001b[0m\n",
      "\u001b[34mEpoch[2/5], Batch[700/938], Loss_D: 0.5144, Loss_G: 3.537, D(x): 0.8826, D(G(z)): 0.2898/0.0387\u001b[0m\n",
      "\u001b[34mEpoch[2/5], Batch[720/938], Loss_D: 1.38, Loss_G: 4.724, D(x): 0.9181, D(G(z)): 0.6505/0.0132\u001b[0m\n",
      "\u001b[34mEpoch[2/5], Batch[740/938], Loss_D: 0.3008, Loss_G: 3.345, D(x): 0.78, D(G(z)): 0.02981/0.06711\u001b[0m\n",
      "\u001b[34mEpoch[2/5], Batch[760/938], Loss_D: 0.2596, Loss_G: 5.71, D(x): 0.9907, D(G(z)): 0.1959/0.004738\u001b[0m\n",
      "\u001b[34mEpoch[2/5], Batch[780/938], Loss_D: 1.17, Loss_G: 8.49, D(x): 0.9731, D(G(z)): 0.6223/0.0003885\u001b[0m\n",
      "\u001b[34mEpoch[2/5], Batch[800/938], Loss_D: 0.4548, Loss_G: 2.726, D(x): 0.7374, D(G(z)): 0.08032/0.09213\u001b[0m\n",
      "\u001b[34mEpoch[2/5], Batch[820/938], Loss_D: 0.2151, Loss_G: 5.208, D(x): 0.9752, D(G(z)): 0.1531/0.008328\u001b[0m\n",
      "\u001b[34mEpoch[2/5], Batch[840/938], Loss_D: 0.1455, Loss_G: 3.244, D(x): 0.9273, D(G(z)): 0.06173/0.05652\u001b[0m\n",
      "\u001b[34mEpoch[2/5], Batch[860/938], Loss_D: 0.8792, Loss_G: 5.149, D(x): 0.9271, D(G(z)): 0.5001/0.00809\u001b[0m\n",
      "\u001b[34mEpoch[2/5], Batch[880/938], Loss_D: 0.2522, Loss_G: 4.336, D(x): 0.8803, D(G(z)): 0.09693/0.02298\u001b[0m\n",
      "\u001b[34mEpoch[2/5], Batch[900/938], Loss_D: 0.2293, Loss_G: 3.906, D(x): 0.8303, D(G(z)): 0.01403/0.03612\u001b[0m\n",
      "\u001b[34mEpoch[2/5], Batch[920/938], Loss_D: 0.1149, Loss_G: 4.654, D(x): 0.9657, D(G(z)): 0.07414/0.01346\u001b[0m\n",
      "\u001b[34mEpoch[3/5], Batch[0/938], Loss_D: 0.06301, Loss_G: 4.037, D(x): 0.9712, D(G(z)): 0.03221/0.02767\u001b[0m\n",
      "\u001b[34mEpoch[3/5], Batch[20/938], Loss_D: 0.06557, Loss_G: 3.772, D(x): 0.9673, D(G(z)): 0.02887/0.03302\u001b[0m\n",
      "\u001b[34mEpoch[3/5], Batch[40/938], Loss_D: 0.06012, Loss_G: 4.286, D(x): 0.9892, D(G(z)): 0.04704/0.01988\u001b[0m\n",
      "\u001b[34mEpoch[3/5], Batch[60/938], Loss_D: 0.06267, Loss_G: 4.897, D(x): 0.9805, D(G(z)): 0.04087/0.01106\u001b[0m\n",
      "\u001b[34mEpoch[3/5], Batch[80/938], Loss_D: 0.6496, Loss_G: 2.296, D(x): 0.791, D(G(z)): 0.3064/0.1315\u001b[0m\n",
      "\u001b[34mEpoch[3/5], Batch[100/938], Loss_D: 0.2505, Loss_G: 4.639, D(x): 0.9539, D(G(z)): 0.1695/0.01374\u001b[0m\n",
      "\u001b[34mEpoch[3/5], Batch[120/938], Loss_D: 0.449, Loss_G: 2.14, D(x): 0.745, D(G(z)): 0.1095/0.1649\u001b[0m\n",
      "\u001b[34mEpoch[3/5], Batch[140/938], Loss_D: 1.188, Loss_G: 4.96, D(x): 0.9553, D(G(z)): 0.6241/0.01569\u001b[0m\n",
      "\u001b[34mEpoch[3/5], Batch[160/938], Loss_D: 0.2931, Loss_G: 2.615, D(x): 0.8096, D(G(z)): 0.04418/0.1192\u001b[0m\n",
      "\u001b[34mEpoch[3/5], Batch[180/938], Loss_D: 0.1291, Loss_G: 4.114, D(x): 0.9262, D(G(z)): 0.04604/0.02456\u001b[0m\n",
      "\u001b[34mEpoch[3/5], Batch[200/938], Loss_D: 0.09884, Loss_G: 4.396, D(x): 0.9728, D(G(z)): 0.06503/0.01873\u001b[0m\n",
      "\u001b[34mEpoch[3/5], Batch[220/938], Loss_D: 0.08124, Loss_G: 4.836, D(x): 0.9309, D(G(z)): 0.005248/0.0131\u001b[0m\n",
      "\u001b[34mEpoch[3/5], Batch[240/938], Loss_D: 0.07098, Loss_G: 4.453, D(x): 0.9664, D(G(z)): 0.035/0.01661\u001b[0m\n",
      "\u001b[34mEpoch[3/5], Batch[260/938], Loss_D: 0.4893, Loss_G: 2.715, D(x): 0.899, D(G(z)): 0.2901/0.0796\u001b[0m\n",
      "\u001b[34mEpoch[3/5], Batch[280/938], Loss_D: 0.4739, Loss_G: 5.365, D(x): 0.9197, D(G(z)): 0.2874/0.007126\u001b[0m\n",
      "\u001b[34mEpoch[3/5], Batch[300/938], Loss_D: 1.207, Loss_G: 2.215, D(x): 0.4065, D(G(z)): 0.01078/0.1647\u001b[0m\n",
      "\u001b[34mEpoch[3/5], Batch[320/938], Loss_D: 0.3443, Loss_G: 2.089, D(x): 0.8118, D(G(z)): 0.08931/0.1651\u001b[0m\n",
      "\u001b[34mEpoch[3/5], Batch[340/938], Loss_D: 0.1068, Loss_G: 5.235, D(x): 0.9718, D(G(z)): 0.0722/0.007994\u001b[0m\n",
      "\u001b[34mEpoch[3/5], Batch[360/938], Loss_D: 0.07002, Loss_G: 4.157, D(x): 0.9733, D(G(z)): 0.03997/0.02527\u001b[0m\n",
      "\u001b[34mEpoch[3/5], Batch[380/938], Loss_D: 1.092, Loss_G: 1.978, D(x): 0.8219, D(G(z)): 0.5165/0.1839\u001b[0m\n",
      "\u001b[34mEpoch[3/5], Batch[400/938], Loss_D: 1.197, Loss_G: 5.163, D(x): 0.9674, D(G(z)): 0.6124/0.008344\u001b[0m\n",
      "\u001b[34mEpoch[3/5], Batch[420/938], Loss_D: 0.5515, Loss_G: 1.588, D(x): 0.6439, D(G(z)): 0.03555/0.2477\u001b[0m\n",
      "\u001b[34mEpoch[3/5], Batch[440/938], Loss_D: 0.2869, Loss_G: 2.281, D(x): 0.8026, D(G(z)): 0.04216/0.1538\u001b[0m\n",
      "\u001b[34mEpoch[3/5], Batch[460/938], Loss_D: 0.1917, Loss_G: 4.894, D(x): 0.9789, D(G(z)): 0.145/0.009998\u001b[0m\n",
      "\u001b[34mEpoch[3/5], Batch[480/938], Loss_D: 0.09096, Loss_G: 3.956, D(x): 0.9809, D(G(z)): 0.06619/0.0278\u001b[0m\n",
      "\u001b[34mEpoch[3/5], Batch[500/938], Loss_D: 0.08268, Loss_G: 3.841, D(x): 0.9406, D(G(z)): 0.0184/0.03117\u001b[0m\n",
      "\u001b[34mEpoch[3/5], Batch[520/938], Loss_D: 0.5087, Loss_G: 1.729, D(x): 0.8051, D(G(z)): 0.2101/0.2206\u001b[0m\n",
      "\u001b[34mEpoch[3/5], Batch[540/938], Loss_D: 0.4801, Loss_G: 4.706, D(x): 0.9486, D(G(z)): 0.3062/0.01374\u001b[0m\n",
      "\u001b[34mEpoch[3/5], Batch[560/938], Loss_D: 0.1001, Loss_G: 4.089, D(x): 0.9789, D(G(z)): 0.07253/0.02549\u001b[0m\n",
      "\u001b[34mEpoch[3/5], Batch[580/938], Loss_D: 0.3302, Loss_G: 2.41, D(x): 0.8562, D(G(z)): 0.1416/0.1224\u001b[0m\n",
      "\u001b[34mEpoch[3/5], Batch[600/938], Loss_D: 0.1749, Loss_G: 3.217, D(x): 0.8996, D(G(z)): 0.0603/0.05467\u001b[0m\n",
      "\u001b[34mEpoch[3/5], Batch[620/938], Loss_D: 0.2926, Loss_G: 2.912, D(x): 0.7818, D(G(z)): 0.01704/0.08046\u001b[0m\n",
      "\u001b[34mEpoch[3/5], Batch[640/938], Loss_D: 0.09169, Loss_G: 4.245, D(x): 0.9337, D(G(z)): 0.02002/0.02422\u001b[0m\n",
      "\u001b[34mEpoch[3/5], Batch[660/938], Loss_D: 0.04961, Loss_G: 4.402, D(x): 0.9841, D(G(z)): 0.03151/0.01711\u001b[0m\n",
      "\u001b[34mEpoch[3/5], Batch[680/938], Loss_D: 0.7292, Loss_G: 2.651, D(x): 0.7472, D(G(z)): 0.2739/0.1038\u001b[0m\n",
      "\u001b[34mEpoch[3/5], Batch[700/938], Loss_D: 0.3514, Loss_G: 2.663, D(x): 0.9101, D(G(z)): 0.203/0.09908\u001b[0m\n",
      "\u001b[34mEpoch[3/5], Batch[720/938], Loss_D: 0.661, Loss_G: 7.613, D(x): 0.9923, D(G(z)): 0.4382/0.0007135\u001b[0m\n",
      "\u001b[34mEpoch[3/5], Batch[740/938], Loss_D: 0.1985, Loss_G: 3.81, D(x): 0.9303, D(G(z)): 0.1097/0.03116\u001b[0m\n",
      "\u001b[34mEpoch[3/5], Batch[760/938], Loss_D: 0.08898, Loss_G: 3.776, D(x): 0.9525, D(G(z)): 0.03765/0.03219\u001b[0m\n",
      "\u001b[34mEpoch[3/5], Batch[780/938], Loss_D: 0.1137, Loss_G: 4.325, D(x): 0.9576, D(G(z)): 0.0618/0.02044\u001b[0m\n",
      "\u001b[34mEpoch[3/5], Batch[800/938], Loss_D: 0.07998, Loss_G: 4.214, D(x): 0.9394, D(G(z)): 0.01498/0.02175\u001b[0m\n",
      "\u001b[34mEpoch[3/5], Batch[820/938], Loss_D: 0.03879, Loss_G: 4.845, D(x): 0.9812, D(G(z)): 0.01916/0.01222\u001b[0m\n",
      "\u001b[34mEpoch[3/5], Batch[840/938], Loss_D: 0.06781, Loss_G: 5.64, D(x): 0.9831, D(G(z)): 0.04653/0.005593\u001b[0m\n",
      "\u001b[34mEpoch[3/5], Batch[860/938], Loss_D: 0.03441, Loss_G: 4.849, D(x): 0.9844, D(G(z)): 0.01808/0.0114\u001b[0m\n",
      "\u001b[34mEpoch[3/5], Batch[880/938], Loss_D: 0.0798, Loss_G: 6.088, D(x): 0.994, D(G(z)): 0.06912/0.003218\u001b[0m\n",
      "\u001b[34mEpoch[3/5], Batch[900/938], Loss_D: 1.748, Loss_G: 1.093, D(x): 0.2986, D(G(z)): 0.06672/0.5049\u001b[0m\n",
      "\u001b[34mEpoch[3/5], Batch[920/938], Loss_D: 0.3737, Loss_G: 3.041, D(x): 0.9042, D(G(z)): 0.2074/0.06351\u001b[0m\n",
      "\u001b[34mEpoch[4/5], Batch[0/938], Loss_D: 0.3777, Loss_G: 2.05, D(x): 0.8025, D(G(z)): 0.113/0.1873\u001b[0m\n",
      "\u001b[34mEpoch[4/5], Batch[20/938], Loss_D: 0.2299, Loss_G: 2.738, D(x): 0.8611, D(G(z)): 0.04473/0.09749\u001b[0m\n",
      "\u001b[34mEpoch[4/5], Batch[40/938], Loss_D: 1.065, Loss_G: 4.379, D(x): 0.9398, D(G(z)): 0.5322/0.02397\u001b[0m\n",
      "\u001b[34mEpoch[4/5], Batch[60/938], Loss_D: 0.6709, Loss_G: 2.277, D(x): 0.5906, D(G(z)): 0.01976/0.1787\u001b[0m\n",
      "\u001b[34mEpoch[4/5], Batch[80/938], Loss_D: 0.2624, Loss_G: 4.551, D(x): 0.9666, D(G(z)): 0.179/0.01729\u001b[0m\n",
      "\u001b[34mEpoch[4/5], Batch[100/938], Loss_D: 1.09, Loss_G: 6.643, D(x): 0.9879, D(G(z)): 0.5469/0.002312\u001b[0m\n",
      "\u001b[34mEpoch[4/5], Batch[120/938], Loss_D: 0.4437, Loss_G: 2.851, D(x): 0.8048, D(G(z)): 0.1667/0.09644\u001b[0m\n",
      "\u001b[34mEpoch[4/5], Batch[140/938], Loss_D: 0.4752, Loss_G: 4.029, D(x): 0.8252, D(G(z)): 0.1989/0.02718\u001b[0m\n",
      "\u001b[34mEpoch[4/5], Batch[160/938], Loss_D: 0.1835, Loss_G: 5.007, D(x): 0.8641, D(G(z)): 0.02463/0.01706\u001b[0m\n",
      "\u001b[34mEpoch[4/5], Batch[180/938], Loss_D: 0.1159, Loss_G: 3.866, D(x): 0.9699, D(G(z)): 0.07929/0.02723\u001b[0m\n",
      "\u001b[34mEpoch[4/5], Batch[200/938], Loss_D: 0.04191, Loss_G: 3.953, D(x): 0.9812, D(G(z)): 0.02207/0.02878\u001b[0m\n",
      "\u001b[34mEpoch[4/5], Batch[220/938], Loss_D: 0.04951, Loss_G: 4.516, D(x): 0.9884, D(G(z)): 0.03595/0.01804\u001b[0m\n",
      "\u001b[34mEpoch[4/5], Batch[240/938], Loss_D: 0.1405, Loss_G: 3.878, D(x): 0.9937, D(G(z)): 0.1126/0.03045\u001b[0m\n",
      "\u001b[34mEpoch[4/5], Batch[260/938], Loss_D: 0.5929, Loss_G: 3.297, D(x): 0.8313, D(G(z)): 0.2924/0.04603\u001b[0m\n",
      "\u001b[34mEpoch[4/5], Batch[280/938], Loss_D: 0.4648, Loss_G: 3.929, D(x): 0.9481, D(G(z)): 0.2923/0.02759\u001b[0m\n",
      "\u001b[34mEpoch[4/5], Batch[300/938], Loss_D: 0.1065, Loss_G: 3.965, D(x): 0.9373, D(G(z)): 0.03605/0.03374\u001b[0m\n",
      "\u001b[34mEpoch[4/5], Batch[320/938], Loss_D: 0.1786, Loss_G: 2.687, D(x): 0.8826, D(G(z)): 0.03411/0.1004\u001b[0m\n",
      "\u001b[34mEpoch[4/5], Batch[340/938], Loss_D: 0.4687, Loss_G: 3.132, D(x): 0.8552, D(G(z)): 0.2347/0.06662\u001b[0m\n",
      "\u001b[34mEpoch[4/5], Batch[360/938], Loss_D: 0.184, Loss_G: 4.817, D(x): 0.9637, D(G(z)): 0.1265/0.01179\u001b[0m\n",
      "\u001b[34mEpoch[4/5], Batch[380/938], Loss_D: 0.1428, Loss_G: 4.099, D(x): 0.9555, D(G(z)): 0.08492/0.02698\u001b[0m\n",
      "\u001b[34mEpoch[4/5], Batch[400/938], Loss_D: 0.02663, Loss_G: 5.166, D(x): 0.9912, D(G(z)): 0.01737/0.009757\u001b[0m\n",
      "\u001b[34mEpoch[4/5], Batch[420/938], Loss_D: 0.05594, Loss_G: 4.532, D(x): 0.9867, D(G(z)): 0.04031/0.01659\u001b[0m\n",
      "\u001b[34mEpoch[4/5], Batch[440/938], Loss_D: 0.04651, Loss_G: 4.344, D(x): 0.9801, D(G(z)): 0.02545/0.0182\u001b[0m\n",
      "\u001b[34mEpoch[4/5], Batch[460/938], Loss_D: 0.04234, Loss_G: 4.933, D(x): 0.9871, D(G(z)): 0.02829/0.01159\u001b[0m\n",
      "\u001b[34mEpoch[4/5], Batch[480/938], Loss_D: 0.06672, Loss_G: 4.142, D(x): 0.9603, D(G(z)): 0.02419/0.0266\u001b[0m\n",
      "\u001b[34mEpoch[4/5], Batch[500/938], Loss_D: 0.7818, Loss_G: 2.484, D(x): 0.7775, D(G(z)): 0.3481/0.114\u001b[0m\n",
      "\u001b[34mEpoch[4/5], Batch[520/938], Loss_D: 0.264, Loss_G: 2.691, D(x): 0.9062, D(G(z)): 0.1231/0.09277\u001b[0m\n",
      "\u001b[34mEpoch[4/5], Batch[540/938], Loss_D: 0.3849, Loss_G: 3.413, D(x): 0.9691, D(G(z)): 0.2614/0.04751\u001b[0m\n",
      "\u001b[34mEpoch[4/5], Batch[560/938], Loss_D: 0.9515, Loss_G: 10.09, D(x): 0.9662, D(G(z)): 0.5374/9.198e-05\u001b[0m\n",
      "\u001b[34mEpoch[4/5], Batch[580/938], Loss_D: 0.2045, Loss_G: 5.014, D(x): 0.9451, D(G(z)): 0.122/0.01049\u001b[0m\n",
      "\u001b[34mEpoch[4/5], Batch[600/938], Loss_D: 0.1461, Loss_G: 3.917, D(x): 0.9425, D(G(z)): 0.07496/0.03213\u001b[0m\n",
      "\u001b[34mEpoch[4/5], Batch[620/938], Loss_D: 0.8085, Loss_G: 0.9335, D(x): 0.5449, D(G(z)): 0.1039/0.452\u001b[0m\n",
      "\u001b[34mEpoch[4/5], Batch[640/938], Loss_D: 0.818, Loss_G: 4.716, D(x): 0.9924, D(G(z)): 0.4914/0.01458\u001b[0m\n",
      "\u001b[34mEpoch[4/5], Batch[660/938], Loss_D: 0.1701, Loss_G: 3.339, D(x): 0.8739, D(G(z)): 0.02388/0.05347\u001b[0m\n",
      "\u001b[34mEpoch[4/5], Batch[680/938], Loss_D: 0.05337, Loss_G: 4.27, D(x): 0.9671, D(G(z)): 0.01904/0.02057\u001b[0m\n",
      "\u001b[34mEpoch[4/5], Batch[700/938], Loss_D: 0.1104, Loss_G: 5.882, D(x): 0.9892, D(G(z)): 0.08939/0.004281\u001b[0m\n",
      "\u001b[34mEpoch[4/5], Batch[720/938], Loss_D: 0.06714, Loss_G: 4.058, D(x): 0.9633, D(G(z)): 0.02499/0.03425\u001b[0m\n",
      "\u001b[34mEpoch[4/5], Batch[740/938], Loss_D: 0.04915, Loss_G: 4.299, D(x): 0.968, D(G(z)): 0.01502/0.01932\u001b[0m\n",
      "\u001b[34mEpoch[4/5], Batch[760/938], Loss_D: 0.04191, Loss_G: 5.158, D(x): 0.9918, D(G(z)): 0.03235/0.008356\u001b[0m\n",
      "\n",
      "2020-04-06 17:10:37 Uploading - Uploading generated training model\u001b[34mEpoch[4/5], Batch[780/938], Loss_D: 0.07767, Loss_G: 4.415, D(x): 0.9359, D(G(z)): 0.00958/0.02203\u001b[0m\n",
      "\u001b[34mEpoch[4/5], Batch[800/938], Loss_D: 0.8544, Loss_G: 3.655, D(x): 0.69, D(G(z)): 0.1993/0.05335\u001b[0m\n",
      "\u001b[34mEpoch[4/5], Batch[820/938], Loss_D: 0.613, Loss_G: 2.761, D(x): 0.8175, D(G(z)): 0.2868/0.08432\u001b[0m\n",
      "\u001b[34mEpoch[4/5], Batch[840/938], Loss_D: 1.036, Loss_G: 4.796, D(x): 0.9578, D(G(z)): 0.5347/0.01233\u001b[0m\n",
      "\u001b[34mEpoch[4/5], Batch[860/938], Loss_D: 0.1921, Loss_G: 3.807, D(x): 0.9509, D(G(z)): 0.09977/0.03539\u001b[0m\n",
      "\u001b[34mEpoch[4/5], Batch[880/938], Loss_D: 1.736, Loss_G: 0.2329, D(x): 0.2593, D(G(z)): 0.05372/0.8439\u001b[0m\n",
      "\u001b[34mEpoch[4/5], Batch[900/938], Loss_D: 0.3587, Loss_G: 2.666, D(x): 0.7976, D(G(z)): 0.09064/0.1028\u001b[0m\n",
      "\u001b[34mEpoch[4/5], Batch[920/938], Loss_D: 1.009, Loss_G: 1.879, D(x): 0.5808, D(G(z)): 0.2745/0.1902\u001b[0m\n",
      "\u001b[34mSaving the model.\u001b[0m\n",
      "\u001b[34m[2020-04-06 17:10:35.326 algo-1:46 INFO utils.py:25] The end of training job file will not be written for jobs running under SageMaker.\u001b[0m\n",
      "\u001b[34m2020-04-06 17:10:35,774 sagemaker-containers INFO     Reporting training SUCCESS\u001b[0m\n",
      "\n",
      "2020-04-06 17:10:54 Completed - Training job completed\n",
      "Training seconds: 305\n",
      "Billable seconds: 91\n",
      "Managed Spot Training savings: 70.2%\n",
      "CPU times: user 815 ms, sys: 41.9 ms, total: 856 ms\n",
      "Wall time: 7min 44s\n"
     ]
    }
   ],
   "source": [
    "%%time\n",
    "from sagemaker.estimator import Estimator\n",
    "\n",
    "# Attaching previous training session\n",
    "training_job_name = estimator.latest_training_job.name\n",
    "attached_estimator = Estimator.attach(training_job_name)"
   ]
  },
  {
   "cell_type": "markdown",
   "metadata": {},
   "source": [
    "根据您选择的训练实例不同，训练过程中可能持续几十分钟到几个小时不等，通常GPU实例会更快，例如，p3.2xlarge 实例大概需要16分钟左右，而 c5.xlarge 实例则可能需要10小时左右。\n",
    "\n",
    "训练完成后，模型将被上传到 Amazon S3 里，上传位置由创建 `PyTorch` 对象时提供的 `output_path` 参数指定。"
   ]
  },
  {
   "cell_type": "markdown",
   "metadata": {
    "isConfigCell": true
   },
   "source": [
    "### 模型的验证"
   ]
  },
  {
   "cell_type": "markdown",
   "metadata": {
    "isConfigCell": true
   },
   "source": [
    "您将从 Amazon S3 下载经过训练的模型到笔记本所在实例本地文件系统。\n",
    "\n",
    "执行如下指令找到刚刚训练好的模型。"
   ]
  },
  {
   "cell_type": "code",
   "execution_count": 38,
   "metadata": {
    "isConfigCell": true
   },
   "outputs": [
    {
     "name": "stdout",
     "output_type": "stream",
     "text": [
      "s3://sagemaker-us-west-2-533025023261/artifacts/pytorch-training-2020-04-06-17-03-38-248/output/model.tar.gz\n",
      "s3://sagemaker-us-west-2-533025023261/artifacts/pytorch-training-2020-04-06-17-03-38-248/output/output.tar.gz\n"
     ]
    }
   ],
   "source": [
    "from helper import *\n",
    "\n",
    "last_artifact_location = s3_model_artifacts_location + training_job_name\n",
    "\n",
    "last_model_url = get_object_path_by_filename(last_artifact_location, 'model.tar.gz')\n",
    "last_output_url = get_object_path_by_filename(last_artifact_location, 'output.tar.gz')\n",
    "\n",
    "print(last_model_url)\n",
    "print(last_output_url)\n",
    "!rm -rf ./tmp/* ./model/*"
   ]
  },
  {
   "cell_type": "code",
   "execution_count": 39,
   "metadata": {
    "isConfigCell": true
   },
   "outputs": [],
   "source": [
    "from sagemaker.s3 import S3Downloader as s3down\n",
    "\n",
    "s3down.download(last_model_url, './tmp')\n",
    "s3down.download(last_output_url, './tmp')"
   ]
  },
  {
   "cell_type": "code",
   "execution_count": 40,
   "metadata": {
    "isConfigCell": true
   },
   "outputs": [],
   "source": [
    "!tar -zxf tmp/model.tar.gz -C ./tmp\n",
    "!tar -zxf tmp/output.tar.gz -C ./tmp\n",
    "!cp ./tmp/generator_state.pth ./model"
   ]
  },
  {
   "cell_type": "code",
   "execution_count": 41,
   "metadata": {
    "isConfigCell": true
   },
   "outputs": [
    {
     "data": {
      "text/plain": [
       "<matplotlib.image.AxesImage at 0x7f37b05b7040>"
      ]
     },
     "execution_count": 41,
     "metadata": {},
     "output_type": "execute_result"
    },
    {
     "data": {
      "image/png": "[encoded data removed]",
      "text/plain": [
       "<Figure size 432x288 with 1 Axes>"
      ]
     },
     "metadata": {
      "needs_background": "light"
     },
     "output_type": "display_data"
    }
   ],
   "source": [
    "from helper import *\n",
    "import matplotlib.pyplot as plt\n",
    "import numpy as np\n",
    "import torch\n",
    "from dcgan.model import Generator\n",
    "\n",
    "device = torch.device(\"cuda:0\" if torch.cuda.is_available() else \"cpu\")\n",
    "\n",
    "params = {'nz': nz, 'nc': nc, 'ngf': ngf}\n",
    "model = load_model(Generator, params, \"./model/generator_state.pth\", device=device)\n",
    "img = generate_fake_handwriting(model, batch_size=batch_size, nz=nz, device=device)\n",
    "\n",
    "plt.imshow(np.asarray(img))"
   ]
  },
  {
   "cell_type": "markdown",
   "metadata": {
    "isConfigCell": true
   },
   "source": [
    "### Install packages"
   ]
  },
  {
   "cell_type": "markdown",
   "metadata": {},
   "source": [
    "### Optimize your model with Neo API\n",
    "Neo API allows to optimize our model for a specific hardware type. When calling `compile_model()` function, we specify the target instance family (C5) as well as the S3 bucket to which the compiled model would be stored.\n",
    "\n",
    "**Important. If the following command result in a permission error, scroll up and locate the value of execution role returned by `get_execution_role()`. The role must have access to the S3 bucket specified in ``output_path``.**"
   ]
  },
  {
   "cell_type": "code",
   "execution_count": null,
   "metadata": {},
   "outputs": [],
   "source": [
    "output_path = '/'.join(estimator.output_path.split('/')[:-1])\n",
    "compiled_model = estimator.compile_model(target_instance_family='jetson_tx2',\n",
    "                                               input_shape={'input0':[1, 784]},\n",
    "                                               role=role,\n",
    "                                               output_path=output_path)"
   ]
  },
  {
   "cell_type": "markdown",
   "metadata": {},
   "source": [
    "### Creating an inference Endpoint\n",
    "\n",
    "We can deploy this compiled model, note that we need to use the same instance that the target we used for compilation. This creates a SageMaker endpoint that we can use to perform inference. \n",
    "\n",
    "The arguments to the ``deploy`` function allow us to set the number and type of instances that will be used for the Endpoint. Make sure to choose an instance for which you have compiled your model, so in our case  `ml_c5`. Neo API uses a special runtime (DLR runtime), in which our optimzed model will run."
   ]
  },
  {
   "cell_type": "code",
   "execution_count": null,
   "metadata": {},
   "outputs": [],
   "source": [
    "predictor = mnist_estimator.deploy(initial_instance_count = 1, instance_type = 'ml.c5.2xlarge')"
   ]
  },
  {
   "cell_type": "markdown",
   "metadata": {},
   "source": [
    "This endpoint will receive uncompressed NumPy arrays, whose Content-Type is given as `application/vnd+python.numpy+binary`:"
   ]
  },
  {
   "cell_type": "code",
   "execution_count": null,
   "metadata": {},
   "outputs": [],
   "source": [
    "import io\n",
    "import numpy as np\n",
    "def numpy_bytes_serializer(data):\n",
    "    f = io.BytesIO()\n",
    "    np.save(f, data)\n",
    "    f.seek(0)\n",
    "    return f.read()\n",
    "\n",
    "predictor.content_type = 'application/vnd+python.numpy+binary'\n",
    "predictor.serializer = numpy_bytes_serializer"
   ]
  },
  {
   "cell_type": "markdown",
   "metadata": {},
   "source": [
    "### Making an inference request\n",
    "\n",
    "Now that our Endpoint is deployed and we have a ``predictor`` object, we can use it to classify handwritten digits.\n",
    "\n",
    "To see inference in action, draw a digit in the image box below. The pixel data from your drawing will be loaded into a ``data`` variable in this notebook. \n",
    "\n",
    "*Note: after drawing the image, you'll need to move to the next notebook cell.*"
   ]
  },
  {
   "cell_type": "markdown",
   "metadata": {},
   "source": [
    "Now we can use the ``predictor`` object to classify the handwritten digit:"
   ]
  },
  {
   "cell_type": "markdown",
   "metadata": {},
   "source": [
    "## Conclusion\n",
    "---\n",
    "SageMaker Neo automatically optimizes machine learning models to perform at up to fourth the speed with no loss in accuracy. In the diagram below shows you how our neo-optimized model performs better than the original mxnet mnist model. The originl model stands for the uncompiled model deployed on Flask container on May 26th, 2019 and neo-optimized model stands for the compiled model deployed on Neo-AI-DLR container. The data for each trial is the average of 1000 trys for each endpoint.\n",
    "![alt text](mxnet-byom-latency.png \"Title\")"
   ]
  },
  {
   "cell_type": "markdown",
   "metadata": {},
   "source": [
    "# (Optional) Delete the Endpoint\n",
    "\n",
    "After you have finished with this example, remember to delete the prediction endpoint to release the instance(s) associated with it."
   ]
  },
  {
   "cell_type": "code",
   "execution_count": null,
   "metadata": {},
   "outputs": [],
   "source": [
    "print(\"Endpoint name: \" + predictor.endpoint)"
   ]
  },
  {
   "cell_type": "code",
   "execution_count": null,
   "metadata": {},
   "outputs": [],
   "source": [
    "import sagemaker\n",
    "predictor.delete_endpoint()"
   ]
  }
 ],
 "metadata": {
  "kernelspec": {
   "display_name": "conda_pytorch_p36",
   "language": "python",
   "name": "conda_pytorch_p36"
  },
  "language_info": {
   "codemirror_mode": {
    "name": "ipython",
    "version": 3
   },
   "file_extension": ".py",
   "mimetype": "text/x-python",
   "name": "python",
   "nbconvert_exporter": "python",
   "pygments_lexer": "ipython3",
   "version": "3.6.5"
  },
  "notice": "Copyright 2017 Amazon.com, Inc. or its affiliates. All Rights Reserved.  Licensed under the Apache License, Version 2.0 (the \"License\"). You may not use this file except in compliance with the License. A copy of the License is located at http://aws.amazon.com/apache2.0/ or in the \"license\" file accompanying this file. This file is distributed on an \"AS IS\" BASIS, WITHOUT WARRANTIES OR CONDITIONS OF ANY KIND, either express or implied. See the License for the specific language governing permissions and limitations under the License.",
  "toc-autonumbering": false,
  "toc-showcode": false,
  "toc-showmarkdowntxt": false
 },
 "nbformat": 4,
 "nbformat_minor": 4
}
